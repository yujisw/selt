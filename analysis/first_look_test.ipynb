{
 "cells": [
  {
   "cell_type": "code",
   "execution_count": 1,
   "metadata": {},
   "outputs": [],
   "source": [
    "import pandas as pd\n",
    "import numpy as np\n",
    "import os"
   ]
  },
  {
   "cell_type": "code",
   "execution_count": 2,
   "metadata": {},
   "outputs": [
    {
     "data": {
      "text/plain": [
       "['PoliInfo2-EntityLinking-JA-Formal-Training.tsv',\n",
       " 'PoliInfo2-EntityLinking-JA-Formal-Test.tsv']"
      ]
     },
     "execution_count": 2,
     "metadata": {},
     "output_type": "execute_result"
    }
   ],
   "source": [
    "data_dir = '../data/PoliInfo2-EntityLinking-FormalRun-v20200703/AnswerSheet'\n",
    "os.listdir(data_dir)"
   ]
  },
  {
   "cell_type": "code",
   "execution_count": 48,
   "metadata": {},
   "outputs": [],
   "source": [
    "df_train = pd.read_table(os.path.join(data_dir,'PoliInfo2-EntityLinking-JA-Formal-Training.tsv'))\n",
    "df_test = pd.read_table(os.path.join(data_dir,'PoliInfo2-EntityLinking-JA-Formal-Test.tsv'))\n"
   ]
  },
  {
   "cell_type": "code",
   "execution_count": 49,
   "metadata": {},
   "outputs": [],
   "source": [
    "df_train['形態素'] = df_train['形態素'].replace('　',' ')\n",
    "df_test['形態素'] = df_test['形態素'].replace('　',' ').replace('\\u3000\\u3000\\u3000━━━━━━━━━━━━━','━━━━━━━━━━━━━')\n"
   ]
  },
  {
   "cell_type": "code",
   "execution_count": 41,
   "metadata": {},
   "outputs": [],
   "source": [
    "split_test_text = df_test['形態素'].values[1:]\n"
   ]
  },
  {
   "cell_type": "code",
   "execution_count": 42,
   "metadata": {},
   "outputs": [],
   "source": [
    "test_text = ''.join([w if w is str else str(w) for w in split_test_text])\n"
   ]
  },
  {
   "cell_type": "code",
   "execution_count": 43,
   "metadata": {},
   "outputs": [
    {
     "data": {
      "text/plain": [
       "832"
      ]
     },
     "execution_count": 43,
     "metadata": {},
     "output_type": "execute_result"
    }
   ],
   "source": [
    "test_text.count('法')"
   ]
  },
  {
   "cell_type": "code",
   "execution_count": 56,
   "metadata": {},
   "outputs": [],
   "source": [
    "train_mention_names = list(df_train[df_train['IOB2']=='B']['メンション'].value_counts().keys())\n",
    "train_mention_counts = list(df_train[df_train['IOB2']=='B']['メンション'].value_counts())\n",
    "train_mention_names[:5]\n",
    "train_mention_dict = {k:v for k,v in zip(train_mention_names,train_mention_counts)}"
   ]
  },
  {
   "cell_type": "code",
   "execution_count": 60,
   "metadata": {},
   "outputs": [
    {
     "name": "stdout",
     "output_type": "stream",
     "text": [
      "ＩＲ法案 11 11\n",
      "推進法案 2 8\n",
      "カジノ法案 33 7\n",
      "政治資金規正法 2 6\n",
      "戦争法 15 5\n",
      "クリーンウッド法 4 5\n",
      "グリーン購入法 1 5\n",
      "推進法 12 5\n",
      "貸金業法 1 4\n",
      "労働基準法 2 4\n",
      "財政法 1 4\n",
      "風営法 1 3\n",
      "ＩＲ法 11 3\n",
      "平和安全法制 1 2\n",
      "基本法 8 2\n",
      "過労死促進法 1 2\n",
      "合法伐採木材等の流通及び利用の促進に関する法律 1 1\n",
      "介護保険法 1 1\n",
      "安保法制 14 1\n",
      "ＩＲ推進法 3 1\n",
      "過労死等防止対策推進法 5 1\n"
     ]
    }
   ],
   "source": [
    "for known_mention_name in train_mention_names:\n",
    "    num = test_text.count(known_mention_name)\n",
    "    if num!=0:\n",
    "        print(known_mention_name, num, train_mention_dict[known_mention_name])"
   ]
  },
  {
   "cell_type": "code",
   "execution_count": 75,
   "metadata": {},
   "outputs": [
    {
     "name": "stdout",
     "output_type": "stream",
     "text": [
      "特別会計に関する法律等の一部を改正する等の法律\n",
      "========\n",
      "~法 68\n",
      "~法案 12\n",
      "~に関する法律 4\n",
      "~法制 2\n",
      "~に関する法律の一部を改正する法律案 6\n",
      "~改正案 1\n",
      "~法律 1\n",
      "~の一部を改正する法律案 5\n",
      "~に関する法律案 2\n"
     ]
    }
   ],
   "source": [
    "type1 = 0 #~法\n",
    "type2 = 0 #~法案\n",
    "type3 = 0 #~に関する法律\n",
    "type4 = 0 #~法制\n",
    "type5 = 0 #~に関する法律の一部を改正する法律案\n",
    "type6 = 0 #~改正案\n",
    "type7 = 0 #~法律\n",
    "type8 = 0 #~の一部を改正する法律案\n",
    "type9 = 0 #~に関する法律案\n",
    "\n",
    "for name in train_mention_names:\n",
    "    if name.endswith('法'):\n",
    "        type1+=1\n",
    "    elif name.endswith('法案'):\n",
    "        type2+=1\n",
    "    elif name.endswith('に関する法律'):\n",
    "        type3+=1\n",
    "    elif name.endswith('法制'):\n",
    "        type4+=1\n",
    "    elif name.endswith('に関する法律の一部を改正する法律案'):\n",
    "        type5+=1\n",
    "    elif name.endswith('改正案'):\n",
    "        type6+=1\n",
    "    elif name.endswith('法律'):\n",
    "        type7+=1\n",
    "    elif name.endswith('の一部を改正する法律案'):\n",
    "        type8+=1\n",
    "    elif name.endswith('に関する法律案'):\n",
    "        type9+=1\n",
    "    else:\n",
    "        print(name)\n",
    "\n",
    "print(\"=\"*8)\n",
    "print('~法',type1)\n",
    "print('~法案',type2)\n",
    "print('~に関する法律',type3)\n",
    "print('~法制',type4)\n",
    "print('~に関する法律の一部を改正する法律案',type5)\n",
    "print('~改正案',type6)\n",
    "print('~法律',type7)\n",
    "print('~の一部を改正する法律案',type8)\n",
    "print('~に関する法律案',type9)\n"
   ]
  },
  {
   "cell_type": "code",
   "execution_count": null,
   "metadata": {},
   "outputs": [],
   "source": []
  }
 ],
 "metadata": {
  "kernelspec": {
   "display_name": "Python 3",
   "language": "python",
   "name": "python3"
  },
  "language_info": {
   "codemirror_mode": {
    "name": "ipython",
    "version": 3
   },
   "file_extension": ".py",
   "mimetype": "text/x-python",
   "name": "python",
   "nbconvert_exporter": "python",
   "pygments_lexer": "ipython3",
   "version": "3.6.5"
  }
 },
 "nbformat": 4,
 "nbformat_minor": 4
}
