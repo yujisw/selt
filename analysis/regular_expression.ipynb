{
 "cells": [
  {
   "cell_type": "code",
   "execution_count": 1,
   "metadata": {},
   "outputs": [],
   "source": [
    "import pandas as pd\n",
    "import numpy as np\n",
    "import os"
   ]
  },
  {
   "cell_type": "code",
   "execution_count": 2,
   "metadata": {},
   "outputs": [
    {
     "data": {
      "text/plain": [
       "['PoliInfo2-EntityLinking-JA-Formal-Training.tsv',\n",
       " 'PoliInfo2-EntityLinking-JA-Formal-Test.tsv']"
      ]
     },
     "execution_count": 2,
     "metadata": {},
     "output_type": "execute_result"
    }
   ],
   "source": [
    "data_dir = '../data/PoliInfo2-EntityLinking-FormalRun-v20200703/AnswerSheet'\n",
    "os.listdir(data_dir)"
   ]
  },
  {
   "cell_type": "code",
   "execution_count": 3,
   "metadata": {},
   "outputs": [],
   "source": [
    "df_train = pd.read_table(os.path.join(data_dir,'PoliInfo2-EntityLinking-JA-Formal-Training.tsv'))\n",
    "df_test = pd.read_table(os.path.join(data_dir,'PoliInfo2-EntityLinking-JA-Formal-Test.tsv'))\n"
   ]
  },
  {
   "cell_type": "code",
   "execution_count": 4,
   "metadata": {},
   "outputs": [],
   "source": [
    "df_train['形態素'] = df_train['形態素'].replace('　',' ')\n",
    "df_test['形態素'] = df_test['形態素'].replace('　',' ').replace('\\u3000\\u3000\\u3000━━━━━━━━━━━━━','━━━━━━━━━━━━━')\n"
   ]
  },
  {
   "cell_type": "code",
   "execution_count": 5,
   "metadata": {},
   "outputs": [],
   "source": [
    "split_train_text = df_train['形態素'].values[1:]\n",
    "split_test_text = df_test['形態素'].values[1:]\n"
   ]
  },
  {
   "cell_type": "code",
   "execution_count": 6,
   "metadata": {},
   "outputs": [],
   "source": [
    "train_text = ''.join([w if w is str else str(w) for w in split_train_text])\n",
    "test_text = ''.join([w if w is str else str(w) for w in split_test_text])\n"
   ]
  },
  {
   "cell_type": "code",
   "execution_count": 8,
   "metadata": {
    "collapsed": true,
    "jupyter": {
     "outputs_hidden": true
    }
   },
   "outputs": [
    {
     "name": "stdout",
     "output_type": "stream",
     "text": [
      "train mention name:  101 種類\n"
     ]
    },
    {
     "data": {
      "text/plain": [
       "円滑化法                                            18\n",
       "働き方改革を推進するための関係法律の整備に関する法律案                     14\n",
       "ＩＲ法案                                            11\n",
       "特定複合観光施設区域の整備の推進に関する法律案                         10\n",
       "ＩＲ推進法案                                           9\n",
       "経営承継円滑化法                                         9\n",
       "推進法案                                             8\n",
       "カジノ法案                                            7\n",
       "労働安全衛生法の一部を改正する法律案                               6\n",
       "環太平洋パートナーシップ協定の締結に伴う関係法律の整備に関する法律の一部を改正する法律案     6\n",
       "一般職の職員の給与に関する法律等の一部を改正する法律案                      6\n",
       "政治資金規正法                                          6\n",
       "クリーンウッド法                                         5\n",
       "グリーン購入法                                          5\n",
       "推進法                                              5\n",
       "特別職の職員の給与に関する法律の一部を改正する法律案                       5\n",
       "金融円滑化法                                           5\n",
       "戦争法                                              5\n",
       "貸金業法                                             4\n",
       "労働基準法                                            4\n",
       "ＴＰＰ整備法                                           4\n",
       "中小企業金融円滑化法                                       4\n",
       "財政法                                              4\n",
       "小規模企業振興基本法                                       3\n",
       "働き方改革関連法案                                        3\n",
       "国会議員の秘書の給与等に関する法律の一部を改正する法律案                     3\n",
       "風営法                                              3\n",
       "中小企業における経営の承継の円滑化に関する法律等の一部を改正する法律案              3\n",
       "ＩＲ法                                              3\n",
       "リゾート法                                            3\n",
       "                                                ..\n",
       "土壌汚染対策法                                          1\n",
       "風俗適正化法                                           1\n",
       "ＩＲ、カジノ解禁法案                                       1\n",
       "給与法                                              1\n",
       "事業承継円滑化法                                         1\n",
       "カジノ・賭博解禁法案                                       1\n",
       "競馬法                                              1\n",
       "ＩＲ推進法                                            1\n",
       "競輪法                                              1\n",
       "ＴＰＰ11整備法案                                        1\n",
       "商工中金法                                            1\n",
       "合法伐採木材等の流通及び利用の促進に関する法律                          1\n",
       "労働契約法                                            1\n",
       "中小企業基本法                                          1\n",
       "カジノ、ＩＲ法案                                         1\n",
       "風適法                                              1\n",
       "職業能力開発促進法                                        1\n",
       "最賃法                                              1\n",
       "カジノ解禁法案                                          1\n",
       "安保関連法                                            1\n",
       "障害者雇用促進法                                         1\n",
       "工場制限法                                            1\n",
       "地球温暖化対策推進法                                       1\n",
       "安保法制                                             1\n",
       "小規模企業基本法                                         1\n",
       "畜産経営の安定に関する法律及び独立行政法人農畜産業振興機構法の一部を改正する法律案        1\n",
       "ＩＲの推進法                                           1\n",
       "食料・農業・農村基本法                                      1\n",
       "介護保険法                                            1\n",
       "パワハラ法                                            1\n",
       "Name: メンション, Length: 101, dtype: int64"
      ]
     },
     "execution_count": 8,
     "metadata": {},
     "output_type": "execute_result"
    }
   ],
   "source": [
    "train_mention_names = list(df_train[df_train['IOB2']=='B']['メンション'].value_counts().keys())\n",
    "print('train mention name: ', len(train_mention_names), '種類')\n",
    "df_train[df_train['IOB2']=='B']['メンション'].value_counts()"
   ]
  },
  {
   "cell_type": "code",
   "execution_count": 87,
   "metadata": {
    "collapsed": true,
    "jupyter": {
     "outputs_hidden": true
    }
   },
   "outputs": [
    {
     "name": "stdout",
     "output_type": "stream",
     "text": [
      "train mention name:  46 種類\n"
     ]
    },
    {
     "data": {
      "text/plain": [
       "NIL                                        67\n",
       "特定複合観光施設区域の整備の推進に関する法律                     60\n",
       "中小企業者等に対する金融の円滑化を図るための臨時措置に関する法律           26\n",
       "働き方改革関連法                                   19\n",
       "中小企業における経営の承継の円滑化に関する法律                    11\n",
       "平和安全法制                                      9\n",
       "政治資金規正法                                     6\n",
       "労働基準法                                       5\n",
       "国等による環境物品等の調達の推進等に関する法律                     5\n",
       "風俗営業等の規制及び業務の適正化等に関する法律                     5\n",
       "貸金業法                                        4\n",
       "財政法                                         4\n",
       "総合保養地域整備法                                   3\n",
       "工場三法                                        3\n",
       "中小企業信用保険法                                   2\n",
       "労働契約法                                       2\n",
       "特定秘密の保護に関する法律                               2\n",
       "関税暫定措置法                                     2\n",
       "犯罪による収益の移転防止に関する法律                          2\n",
       "所得税法                                        2\n",
       "介護保険法                                       1\n",
       "政党助成法                                       1\n",
       "公職選挙法                                       1\n",
       "行政手続における特定の個人を識別するための番号の利用等に関する法律           1\n",
       "大規模小売店舗立地法                                  1\n",
       "最低賃金法                                       1\n",
       "公立の義務教育諸学校等の教育職員の給与等に関する特別措置法               1\n",
       "中小企業基本法                                     1\n",
       "災害救助法                                       1\n",
       "過労死等防止対策推進法                                 1\n",
       "自転車競技法                                      1\n",
       "食料・農業・農村基本法                                 1\n",
       "食品衛生法                                       1\n",
       "土壌汚染防止法                                     1\n",
       "労働者派遣事業の適正な運営の確保及び派遣労働者の保護等に関する法律           1\n",
       "競馬法                                         1\n",
       "障害者の雇用の促進等に関する法律                            1\n",
       "容器包装に係る分別収集及び再商品化の促進等に関する法律                 1\n",
       "労働施策の総合的な推進並びに労働者の雇用の安定及び職業生活の充実等に関する法律     1\n",
       "土壌汚染対策法                                     1\n",
       "地球温暖化対策の推進に関する法律                            1\n",
       "職業能力開発促進法                                   1\n",
       "一般職の職員の給与に関する法律                             1\n",
       "少年法                                         1\n",
       "会計法                                         1\n",
       "株式会社商工組合中央金庫法                               1\n",
       "Name: wikipediaタイトル, dtype: int64"
      ]
     },
     "execution_count": 87,
     "metadata": {},
     "output_type": "execute_result"
    }
   ],
   "source": [
    "train_entity_names = list(df_train[df_train['IOB2']=='B']['wikipediaタイトル'].value_counts().keys())\n",
    "print('train mention name: ', len(train_entity_names), '種類')\n",
    "df_train[df_train['IOB2']=='B']['wikipediaタイトル'].value_counts()"
   ]
  },
  {
   "cell_type": "markdown",
   "metadata": {},
   "source": [
    "## Mention Detection using Regular Expression"
   ]
  },
  {
   "cell_type": "code",
   "execution_count": 120,
   "metadata": {},
   "outputs": [],
   "source": [
    "import regex\n",
    "import collections"
   ]
  },
  {
   "cell_type": "code",
   "execution_count": 102,
   "metadata": {},
   "outputs": [
    {
     "name": "stdout",
     "output_type": "stream",
     "text": [
      "['私', 'カジノ・賭博解禁法案', '賭博案', '賛成']\n"
     ]
    }
   ],
   "source": [
    "p = regex.compile(r'[\\p{Script=Han}\\p{Script=Katakana}・a-zA-Z1-9]+')\n",
    "print(p.findall('私はカジノ・賭博解禁法案と賭博案に賛成します。'))\n"
   ]
  },
  {
   "cell_type": "code",
   "execution_count": 105,
   "metadata": {},
   "outputs": [
    {
     "data": {
      "text/plain": [
       "['私', 'カジノ・賭博解禁法案', '賭博案', '賛成']"
      ]
     },
     "execution_count": 105,
     "metadata": {},
     "output_type": "execute_result"
    }
   ],
   "source": [
    "p = regex.compile(r'[\\p{Script=Han}\\p{Script=Katakana}・a-zA-Z1-9]+')\n",
    "candidate_mentions = p.findall('私はカジノ・賭博解禁法案と賭博案に賛成します。')\n",
    "candidate_mentions"
   ]
  },
  {
   "cell_type": "code",
   "execution_count": 108,
   "metadata": {},
   "outputs": [
    {
     "ename": "SyntaxError",
     "evalue": "invalid syntax (<ipython-input-108-785a55d37c9a>, line 1)",
     "output_type": "error",
     "traceback": [
      "\u001b[0;36m  File \u001b[0;32m\"<ipython-input-108-785a55d37c9a>\"\u001b[0;36m, line \u001b[0;32m1\u001b[0m\n\u001b[0;31m    candidate_mentions = [m if m.endswith('法案') for m in candidate_mentions]\u001b[0m\n\u001b[0m                                                  ^\u001b[0m\n\u001b[0;31mSyntaxError\u001b[0m\u001b[0;31m:\u001b[0m invalid syntax\n"
     ]
    }
   ],
   "source": [
    "candidate_mentions = [m if m.endswith('法案') for m in candidate_mentions]\n"
   ]
  },
  {
   "cell_type": "code",
   "execution_count": 128,
   "metadata": {},
   "outputs": [],
   "source": [
    "candidate_mentions = []\n",
    "for m in p.finditer(train_text):\n",
    "    if m.group().endswith(('法案','法制','法')) and not m.group().endswith('療法') and m.group() not in ['法','法案','法制']:\n",
    "        candidate_mentions.append(m.group())\n",
    "        \n",
    "c = collections.Counter(candidate_mentions)"
   ]
  },
  {
   "cell_type": "code",
   "execution_count": 129,
   "metadata": {},
   "outputs": [
    {
     "data": {
      "text/plain": [
       "[('実施法', 48),\n",
       " ('本法案', 38),\n",
       " ('刑法', 33),\n",
       " ('実施法案', 25),\n",
       " ('議員立法', 17),\n",
       " ('推進法案', 17),\n",
       " ('プログラム法', 15),\n",
       " ('特別法', 12),\n",
       " ('基本法', 11),\n",
       " ('方法', 11),\n",
       " ('円滑化法', 11),\n",
       " ('違法', 8),\n",
       " ('経営承継円滑化法', 8),\n",
       " ('立法', 7),\n",
       " ('カジノ法案', 7),\n",
       " ('推進法', 6),\n",
       " ('手法', 6),\n",
       " ('合法', 6),\n",
       " ('労働安全衛生法', 6),\n",
       " ('労働法制', 6),\n",
       " ('政治資金規正法', 5),\n",
       " ('民法', 5),\n",
       " ('金融円滑化法', 5),\n",
       " ('ンウッド法', 5),\n",
       " ('同法案', 4),\n",
       " ('戦争法', 4),\n",
       " ('中小企業金融円滑化法', 4),\n",
       " ('政府提出法案', 4),\n",
       " ('ン購入法', 4),\n",
       " ('ト法', 3),\n",
       " ('貸金業法', 3),\n",
       " ('今後実施法', 3),\n",
       " ('プログラム法案', 3),\n",
       " ('本法', 3),\n",
       " ('憲法', 3),\n",
       " ('小規模企業振興基本法', 3),\n",
       " ('整備法', 3),\n",
       " ('方改革関連法案', 3),\n",
       " ('国内法', 2),\n",
       " ('司法', 2),\n",
       " ('カジノ解禁法案', 2),\n",
       " ('風営法', 2),\n",
       " ('閣法', 2),\n",
       " ('選定方法', 2),\n",
       " ('地方交付税法', 2),\n",
       " ('特定秘密保護法', 2),\n",
       " ('平和安全法制', 2),\n",
       " ('中小企業信用保険法', 2),\n",
       " ('機構法', 2),\n",
       " ('独法', 2),\n",
       " ('関税暫定措置法', 2),\n",
       " ('関連法案', 2),\n",
       " ('労働基準法', 2),\n",
       " ('過労死促進法', 2),\n",
       " ('対処法', 1),\n",
       " ('犯収法', 1),\n",
       " ('犯罪収益移転防止法', 1),\n",
       " ('カジノ法', 1),\n",
       " ('規制法案', 1),\n",
       " ('後実施法', 1),\n",
       " ('現行刑法', 1),\n",
       " ('基本法案', 1),\n",
       " ('実行法', 1),\n",
       " ('カジノ解禁法', 1),\n",
       " ('特別立法', 1),\n",
       " ('一番法', 1),\n",
       " ('競馬法', 1),\n",
       " ('競輪法', 1),\n",
       " ('風適法', 1),\n",
       " ('風俗適正化法', 1),\n",
       " ('規制法', 1),\n",
       " ('準備法案', 1),\n",
       " ('違憲立法', 1),\n",
       " ('無法', 1),\n",
       " ('日本国憲法', 1),\n",
       " ('比較方法', 1),\n",
       " ('少年法', 1),\n",
       " ('会計法', 1),\n",
       " ('公務員給与法', 1),\n",
       " ('安保法制', 1),\n",
       " ('安保関連法', 1),\n",
       " ('財政法', 1),\n",
       " ('災害救助法', 1),\n",
       " ('分配方法', 1),\n",
       " ('工場制限法', 1),\n",
       " ('立地法', 1),\n",
       " ('工場三法', 1),\n",
       " ('土壌汚染防止法', 1),\n",
       " ('小規模企業基本法', 1),\n",
       " ('事業承継円滑化法', 1),\n",
       " ('税法', 1),\n",
       " ('土壌汚染対策法', 1),\n",
       " ('特例法', 1),\n",
       " ('大規模店舗法', 1),\n",
       " ('商工中金法', 1),\n",
       " ('課税方法', 1),\n",
       " ('説法', 1),\n",
       " ('論法', 1),\n",
       " ('中小企業基本法', 1),\n",
       " ('承継法', 1),\n",
       " ('実践法', 1),\n",
       " ('起業促進法', 1),\n",
       " ('デュトレイユ法', 1),\n",
       " ('経済近代化法', 1),\n",
       " ('独立行政法人農畜産業振興機構法', 1),\n",
       " ('食品衛生法', 1),\n",
       " ('食料・農業・農村基本法', 1),\n",
       " ('関連法', 1),\n",
       " ('11整備法案', 1),\n",
       " ('最重要法案', 1),\n",
       " ('説明方法', 1),\n",
       " ('給特法', 1),\n",
       " ('野党提出法案', 1),\n",
       " ('パワハラ規制法案', 1),\n",
       " ('パワハラ法', 1),\n",
       " ('ル教育推進法案', 1),\n",
       " ('介護保険法', 1),\n",
       " ('提出法案', 1),\n",
       " ('御飯論法', 1),\n",
       " ('重要法案', 1),\n",
       " ('労働者派遣法', 1),\n",
       " ('雇用対策法', 1),\n",
       " ('最賃法', 1),\n",
       " ('労働者保護法制', 1),\n",
       " ('過労死等防止対策推進法', 1),\n",
       " ('障害者雇用促進法', 1),\n",
       " ('職業能力開発促進法', 1),\n",
       " ('改正労働契約法', 1),\n",
       " ('労働契約法', 1),\n",
       " ('購入方法', 1),\n",
       " ('増殖方法', 1),\n",
       " ('料理法', 1),\n",
       " ('地球温暖化対策推進法', 1),\n",
       " ('容器包装リサイクル法', 1)]"
      ]
     },
     "execution_count": 129,
     "metadata": {},
     "output_type": "execute_result"
    }
   ],
   "source": [
    "c.most_common()"
   ]
  },
  {
   "cell_type": "code",
   "execution_count": null,
   "metadata": {},
   "outputs": [],
   "source": []
  }
 ],
 "metadata": {
  "kernelspec": {
   "display_name": "Python 3",
   "language": "python",
   "name": "python3"
  },
  "language_info": {
   "codemirror_mode": {
    "name": "ipython",
    "version": 3
   },
   "file_extension": ".py",
   "mimetype": "text/x-python",
   "name": "python",
   "nbconvert_exporter": "python",
   "pygments_lexer": "ipython3",
   "version": "3.6.5"
  }
 },
 "nbformat": 4,
 "nbformat_minor": 4
}
